{
 "cells": [
  {
   "cell_type": "code",
   "execution_count": 1,
   "metadata": {},
   "outputs": [],
   "source": [
    "import hashlib\n"
   ]
  },
  {
   "cell_type": "code",
   "execution_count": 63,
   "metadata": {},
   "outputs": [
    {
     "data": {
      "text/plain": [
       "'178689910246017054531432477289437798228285773001601743140683776'"
      ]
     },
     "execution_count": 63,
     "metadata": {},
     "output_type": "execute_result"
    }
   ],
   "source": [
    "a = 36**40\n",
    "a = str(a)\n",
    "a\n",
    "#a = list(a)\n",
    "#len(a)"
   ]
  },
  {
   "cell_type": "code",
   "execution_count": 3,
   "metadata": {},
   "outputs": [
    {
     "name": "stdout",
     "output_type": "stream",
     "text": [
      "Введите данные владельца битоином (ФИО, Дата рождения): 31072002Lokom19\n",
      "Введите данные владельца битоином (ФИО, Дата рождения): f \n",
      "блокчейн: dict_values(['cdd6134eaa1b0d5806da0bc6851937fb07e024e60d04ca5f5b30f31801303c62', '1eaee1369048ec4e64addd282758f27e99e46ddea34e0be79fe07304e66bd8ad'])\n"
     ]
    }
   ],
   "source": [
    "owners = {}\n",
    "for i in range(2):\n",
    "    c = 1\n",
    "    while c == 1: \n",
    "        hash_str1=input('Введите данные владельца битоином (ФИО, Дата рождения): ')\n",
    "#         if hash_str1.count(' ')<1:\n",
    "#             print('Введите еще раз: ')\n",
    "        #else: \n",
    "        c = c +3\n",
    "    hash_str = hash_str1.encode('utf-8')\n",
    "    hash_str = hashlib.sha256(hash_str)\n",
    "    a = hash_str.hexdigest()\n",
    "    owners[hash_str1] = a\n",
    "    \n",
    "#print(owners)\n",
    "print(f'блокчейн: {owners.values()}')\n"
   ]
  }
 ],
 "metadata": {
  "kernelspec": {
   "display_name": "Python 3",
   "language": "python",
   "name": "python3"
  },
  "language_info": {
   "codemirror_mode": {
    "name": "ipython",
    "version": 3
   },
   "file_extension": ".py",
   "mimetype": "text/x-python",
   "name": "python",
   "nbconvert_exporter": "python",
   "pygments_lexer": "ipython3",
   "version": "3.8.3"
  }
 },
 "nbformat": 4,
 "nbformat_minor": 4
}
